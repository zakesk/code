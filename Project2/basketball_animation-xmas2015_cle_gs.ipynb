{
 "cells": [
  {
   "cell_type": "markdown",
   "metadata": {},
   "source": [
    "# Kevin Zakes - Animating NBA play-by-play data  "
   ]
  },
  {
   "cell_type": "markdown",
   "metadata": {},
   "source": [
    "### Background:  The intent of this project is to familiarize myself with the NBA play-by-play tracking data that is currently available.  It borrows heavily from methods outlined by James Curley at Columbia (http://curleylab.psych.columbia.edu/nba.html), although there were numerous instances where I had to modify his code or look elsewhere for source files in order to generate the animation for the desired game and situation.  Additionally, the source data that I was able to find on Github had a strange quirk with the player coordinates which I was able to address and fix.\n",
    "\n",
    "### In the 2015-16 NBA season, the Golden State Warriors set an NBA record with 73 regular season wins.  While primarily known as an offensive powerhouse, they also proved to be a formidable opponent on the defensive end of the court.  On defense, they often used a \"switch everything\" strategy, where they would combat screens by swiftly switching defenders when a screen is set. Many of the Warriors players are very quick and active on the defensive end, and their defensive strategy often forced the offense into a quick decision, sometimes leading to a turnover or poor offensive execution.  However, this strategy can backfire when the switches are not executed properly.  \n",
    "\n",
    "### A play was examined from the game on 2015 Christams day game between the Warriors and the Cleveland Cavaliers.  In this play, LeBron James starts out with the ball with Andre Iguodala guarding him.  Initially, Kevin Love sets a high screen for James on Iguodala, and Love's defender Draymond Green switches onto James.  Next, Matthew Dellavadova comes in from the left side and sets another screen for James.  The ensuing switch leads to Stephen Curry showing to cut off James from turning the corner.  Next, instead of staying on James, Curry quickly runs back towards Dellavadova.  Meanwhile, Dellavadova is (possibly illegally) maintaining his screen on Green.  The resulting momentary confusion about who is picking up LeBron is all he needs in order to drive down the left side of the paint for an easy basket.  \n",
    "\n",
    "### Video footage for this play can be viewed at http://stats.nba.com/events/#!/?flag=1&GameID=0021500438&GameEventID=493&Season=2015-16&title=James%20%20Driving%20Dunk%20(22%20PTS)&sct=plot\n",
    "\n",
    "### This play forshadowed a strategy that Cleveland would employ again a few months later in the 2016 NBA Finals - executing a series of screens designed to get Curry defending LeBron (or Kyrie Irving) on the wing or at the top of the key, and attacking Golden State's defense from there.  In fact, a similar play was executed in the final minute of game seven of the Finals.  In that situation, instead of driving to the hoop, Irving hit an iconic 3 pointer after Curry switched onto him.  That play, drawn up during a timeout moments before, proved to be the defining offensive play of Cleveland's championship. "
   ]
  },
  {
   "cell_type": "markdown",
   "metadata": {},
   "source": [
    "### Load required libraries:"
   ]
  },
  {
   "cell_type": "code",
   "execution_count": 2,
   "metadata": {
    "collapsed": true
   },
   "outputs": [],
   "source": [
    "setwd(\"/Users/zakesk/basketball\")"
   ]
  },
  {
   "cell_type": "code",
   "execution_count": 5,
   "metadata": {
    "collapsed": false
   },
   "outputs": [],
   "source": [
    "library(RCurl)\n",
    "library(jsonlite)\n",
    "library(dplyr)\n",
    "library(sp)\n",
    "library(ggplot2)\n",
    "library(data.table)\n",
    "library(gganimate)"
   ]
  },
  {
   "cell_type": "markdown",
   "metadata": {},
   "source": [
    "### Many of the functions for this project were sourced from the following location:"
   ]
  },
  {
   "cell_type": "code",
   "execution_count": 3,
   "metadata": {
    "collapsed": false
   },
   "outputs": [],
   "source": [
    "source(\"https://raw.githubusercontent.com/jalapic/nba/master/playbyplayfunctions.R\")"
   ]
  },
  {
   "cell_type": "markdown",
   "metadata": {},
   "source": [
    "### The SportVu player tracking data for various NBA games during the first half of the 2015-2016 season was found on Github.  The SportVu data for this particular game was downloaded from the following site:   https://github.com/linouk23/NBA-Player-Movements/blob/master/data/2016.NBA.Raw.SportVU.Game.Logs/12.25.2015.CLE.at.GSW.7z\n"
   ]
  },
  {
   "cell_type": "markdown",
   "metadata": {},
   "source": [
    "### Unpacking the .7z file resulted in a JSON file, which was run through a sourced function (\"sportvu_convert_json\") that receives the file and transforms it into a data frame for the analysis.\n"
   ]
  },
  {
   "cell_type": "code",
   "execution_count": 4,
   "metadata": {
    "collapsed": false
   },
   "outputs": [
    {
     "name": "stderr",
     "output_type": "stream",
     "text": [
      "Warning message in FUN(X[[i]], ...):\n",
      "“NAs introduced by coercion”"
     ]
    }
   ],
   "source": [
    "all.movements <- sportvu_convert_json(\"0021500438.json\")"
   ]
  },
  {
   "cell_type": "markdown",
   "metadata": {},
   "source": [
    "### The resulting variable has 13 variables, with 2,562,242 observations:"
   ]
  },
  {
   "cell_type": "code",
   "execution_count": 6,
   "metadata": {
    "collapsed": false
   },
   "outputs": [
    {
     "name": "stdout",
     "output_type": "stream",
     "text": [
      "'data.frame':\t2562242 obs. of  13 variables:\n",
      " $ player_id : chr  \"201567\" \"201567\" \"201567\" \"201567\" ...\n",
      " $ lastname  : chr  \"Love\" \"Love\" \"Love\" \"Love\" ...\n",
      " $ firstname : chr  \"Kevin\" \"Kevin\" \"Kevin\" \"Kevin\" ...\n",
      " $ jersey    : chr  \"0\" \"0\" \"0\" \"0\" ...\n",
      " $ position  : chr  \"F\" \"F\" \"F\" \"F\" ...\n",
      " $ team_id   : num  1.61e+09 1.61e+09 1.61e+09 1.61e+09 1.61e+09 ...\n",
      " $ x_loc     : num  36.7 36.7 36.7 36.7 36.7 ...\n",
      " $ y_loc     : num  24.8 24.8 24.8 24.8 24.8 ...\n",
      " $ radius    : num  0 0 0 0 0 0 0 0 0 0 ...\n",
      " $ game_clock: num  720 720 720 720 720 720 720 720 720 720 ...\n",
      " $ shot_clock: num  24 24 24 24 24 24 24 24 24 24 ...\n",
      " $ quarter   : num  1 1 1 1 1 1 1 1 1 1 ...\n",
      " $ event.id  : num  1 2 2 1 1 2 1 2 1 2 ...\n"
     ]
    }
   ],
   "source": [
    "str(all.movements)"
   ]
  },
  {
   "cell_type": "markdown",
   "metadata": {},
   "source": [
    "### Initial inspection of the data frame shows that the data is properly formatted:"
   ]
  },
  {
   "cell_type": "code",
   "execution_count": 7,
   "metadata": {
    "collapsed": false
   },
   "outputs": [
    {
     "data": {
      "text/html": [
       "<table>\n",
       "<thead><tr><th scope=col>player_id</th><th scope=col>lastname</th><th scope=col>firstname</th><th scope=col>jersey</th><th scope=col>position</th><th scope=col>team_id</th><th scope=col>x_loc</th><th scope=col>y_loc</th><th scope=col>radius</th><th scope=col>game_clock</th><th scope=col>shot_clock</th><th scope=col>quarter</th><th scope=col>event.id</th></tr></thead>\n",
       "<tbody>\n",
       "\t<tr><td>201567    </td><td>Love      </td><td>Kevin     </td><td>0         </td><td>F         </td><td>1610612739</td><td>36.68877  </td><td>24.80455  </td><td>0         </td><td>720       </td><td>24        </td><td>1         </td><td>1         </td></tr>\n",
       "\t<tr><td>201567    </td><td>Love      </td><td>Kevin     </td><td>0         </td><td>F         </td><td>1610612739</td><td>36.68877  </td><td>24.80455  </td><td>0         </td><td>720       </td><td>24        </td><td>1         </td><td>2         </td></tr>\n",
       "\t<tr><td>201567    </td><td>Love      </td><td>Kevin     </td><td>0         </td><td>F         </td><td>1610612739</td><td>36.69438  </td><td>24.79715  </td><td>0         </td><td>720       </td><td>24        </td><td>1         </td><td>2         </td></tr>\n",
       "\t<tr><td>201567    </td><td>Love      </td><td>Kevin     </td><td>0         </td><td>F         </td><td>1610612739</td><td>36.69438  </td><td>24.79715  </td><td>0         </td><td>720       </td><td>24        </td><td>1         </td><td>1         </td></tr>\n",
       "\t<tr><td>201567    </td><td>Love      </td><td>Kevin     </td><td>0         </td><td>F         </td><td>1610612739</td><td>36.70210  </td><td>24.78821  </td><td>0         </td><td>720       </td><td>24        </td><td>1         </td><td>1         </td></tr>\n",
       "\t<tr><td>201567    </td><td>Love      </td><td>Kevin     </td><td>0         </td><td>F         </td><td>1610612739</td><td>36.70210  </td><td>24.78821  </td><td>0         </td><td>720       </td><td>24        </td><td>1         </td><td>2         </td></tr>\n",
       "</tbody>\n",
       "</table>\n"
      ],
      "text/latex": [
       "\\begin{tabular}{r|lllllllllllll}\n",
       " player\\_id & lastname & firstname & jersey & position & team\\_id & x\\_loc & y\\_loc & radius & game\\_clock & shot\\_clock & quarter & event.id\\\\\n",
       "\\hline\n",
       "\t 201567     & Love       & Kevin      & 0          & F          & 1610612739 & 36.68877   & 24.80455   & 0          & 720        & 24         & 1          & 1         \\\\\n",
       "\t 201567     & Love       & Kevin      & 0          & F          & 1610612739 & 36.68877   & 24.80455   & 0          & 720        & 24         & 1          & 2         \\\\\n",
       "\t 201567     & Love       & Kevin      & 0          & F          & 1610612739 & 36.69438   & 24.79715   & 0          & 720        & 24         & 1          & 2         \\\\\n",
       "\t 201567     & Love       & Kevin      & 0          & F          & 1610612739 & 36.69438   & 24.79715   & 0          & 720        & 24         & 1          & 1         \\\\\n",
       "\t 201567     & Love       & Kevin      & 0          & F          & 1610612739 & 36.70210   & 24.78821   & 0          & 720        & 24         & 1          & 1         \\\\\n",
       "\t 201567     & Love       & Kevin      & 0          & F          & 1610612739 & 36.70210   & 24.78821   & 0          & 720        & 24         & 1          & 2         \\\\\n",
       "\\end{tabular}\n"
      ],
      "text/markdown": [
       "\n",
       "player_id | lastname | firstname | jersey | position | team_id | x_loc | y_loc | radius | game_clock | shot_clock | quarter | event.id | \n",
       "|---|---|---|---|---|---|\n",
       "| 201567     | Love       | Kevin      | 0          | F          | 1610612739 | 36.68877   | 24.80455   | 0          | 720        | 24         | 1          | 1          | \n",
       "| 201567     | Love       | Kevin      | 0          | F          | 1610612739 | 36.68877   | 24.80455   | 0          | 720        | 24         | 1          | 2          | \n",
       "| 201567     | Love       | Kevin      | 0          | F          | 1610612739 | 36.69438   | 24.79715   | 0          | 720        | 24         | 1          | 2          | \n",
       "| 201567     | Love       | Kevin      | 0          | F          | 1610612739 | 36.69438   | 24.79715   | 0          | 720        | 24         | 1          | 1          | \n",
       "| 201567     | Love       | Kevin      | 0          | F          | 1610612739 | 36.70210   | 24.78821   | 0          | 720        | 24         | 1          | 1          | \n",
       "| 201567     | Love       | Kevin      | 0          | F          | 1610612739 | 36.70210   | 24.78821   | 0          | 720        | 24         | 1          | 2          | \n",
       "\n",
       "\n"
      ],
      "text/plain": [
       "  player_id lastname firstname jersey position team_id    x_loc    y_loc   \n",
       "1 201567    Love     Kevin     0      F        1610612739 36.68877 24.80455\n",
       "2 201567    Love     Kevin     0      F        1610612739 36.68877 24.80455\n",
       "3 201567    Love     Kevin     0      F        1610612739 36.69438 24.79715\n",
       "4 201567    Love     Kevin     0      F        1610612739 36.69438 24.79715\n",
       "5 201567    Love     Kevin     0      F        1610612739 36.70210 24.78821\n",
       "6 201567    Love     Kevin     0      F        1610612739 36.70210 24.78821\n",
       "  radius game_clock shot_clock quarter event.id\n",
       "1 0      720        24         1       1       \n",
       "2 0      720        24         1       2       \n",
       "3 0      720        24         1       2       \n",
       "4 0      720        24         1       1       \n",
       "5 0      720        24         1       1       \n",
       "6 0      720        24         1       2       "
      ]
     },
     "metadata": {},
     "output_type": "display_data"
    }
   ],
   "source": [
    "head(all.movements)"
   ]
  },
  {
   "cell_type": "markdown",
   "metadata": {},
   "source": [
    "### However, when initially running the animation with this data, the \"left-to-right\" action was reverse mirroring the  television footage of the play.  For instance, LeBron drives to the left on the actual play, but the animation shows him driving to the right.  For some reason, the \"y-loc\" variable contained data that was reversed.  Examining the \"y-loc\" data, it appears the court y-coordinates range from 0-50, with 25 being the middle of the court (i.e. where the nail is located on the free throw lines).  Values outside this range represent a player being out of bounds."
   ]
  },
  {
   "cell_type": "code",
   "execution_count": 8,
   "metadata": {
    "collapsed": false
   },
   "outputs": [
    {
     "data": {
      "text/html": [
       "52.81007"
      ],
      "text/latex": [
       "52.81007"
      ],
      "text/markdown": [
       "52.81007"
      ],
      "text/plain": [
       "[1] 52.81007"
      ]
     },
     "metadata": {},
     "output_type": "display_data"
    },
    {
     "data": {
      "text/html": [
       "-2.81185"
      ],
      "text/latex": [
       "-2.81185"
      ],
      "text/markdown": [
       "-2.81185"
      ],
      "text/plain": [
       "[1] -2.81185"
      ]
     },
     "metadata": {},
     "output_type": "display_data"
    },
    {
     "data": {
      "text/html": [
       "101.71796"
      ],
      "text/latex": [
       "101.71796"
      ],
      "text/markdown": [
       "101.71796"
      ],
      "text/plain": [
       "[1] 101.718"
      ]
     },
     "metadata": {},
     "output_type": "display_data"
    },
    {
     "data": {
      "text/html": [
       "-5.27795"
      ],
      "text/latex": [
       "-5.27795"
      ],
      "text/markdown": [
       "-5.27795"
      ],
      "text/plain": [
       "[1] -5.27795"
      ]
     },
     "metadata": {},
     "output_type": "display_data"
    }
   ],
   "source": [
    "max(all.movements$y_loc)\n",
    "min(all.movements$y_loc)\n",
    "\n",
    "max(all.movements$x_loc)\n",
    "min(all.movements$x_loc)"
   ]
  },
  {
   "cell_type": "markdown",
   "metadata": {},
   "source": [
    "### Transforming the \"y_loc\" column in the data frame with the following function fixed the issue:"
   ]
  },
  {
   "cell_type": "code",
   "execution_count": 9,
   "metadata": {
    "collapsed": true
   },
   "outputs": [],
   "source": [
    "# mirror y_loc coordinates\n",
    "all.movements$y_loc <- 50 - all.movements$y_loc"
   ]
  },
  {
   "cell_type": "code",
   "execution_count": 10,
   "metadata": {
    "collapsed": false
   },
   "outputs": [
    {
     "data": {
      "text/html": [
       "<table>\n",
       "<thead><tr><th scope=col>player_id</th><th scope=col>lastname</th><th scope=col>firstname</th><th scope=col>jersey</th><th scope=col>position</th><th scope=col>team_id</th><th scope=col>x_loc</th><th scope=col>y_loc</th><th scope=col>radius</th><th scope=col>game_clock</th><th scope=col>shot_clock</th><th scope=col>quarter</th><th scope=col>event.id</th></tr></thead>\n",
       "<tbody>\n",
       "\t<tr><td>201567    </td><td>Love      </td><td>Kevin     </td><td>0         </td><td>F         </td><td>1610612739</td><td>36.68877  </td><td>25.19545  </td><td>0         </td><td>720       </td><td>24        </td><td>1         </td><td>1         </td></tr>\n",
       "\t<tr><td>201567    </td><td>Love      </td><td>Kevin     </td><td>0         </td><td>F         </td><td>1610612739</td><td>36.68877  </td><td>25.19545  </td><td>0         </td><td>720       </td><td>24        </td><td>1         </td><td>2         </td></tr>\n",
       "\t<tr><td>201567    </td><td>Love      </td><td>Kevin     </td><td>0         </td><td>F         </td><td>1610612739</td><td>36.69438  </td><td>25.20285  </td><td>0         </td><td>720       </td><td>24        </td><td>1         </td><td>2         </td></tr>\n",
       "\t<tr><td>201567    </td><td>Love      </td><td>Kevin     </td><td>0         </td><td>F         </td><td>1610612739</td><td>36.69438  </td><td>25.20285  </td><td>0         </td><td>720       </td><td>24        </td><td>1         </td><td>1         </td></tr>\n",
       "\t<tr><td>201567    </td><td>Love      </td><td>Kevin     </td><td>0         </td><td>F         </td><td>1610612739</td><td>36.70210  </td><td>25.21179  </td><td>0         </td><td>720       </td><td>24        </td><td>1         </td><td>1         </td></tr>\n",
       "\t<tr><td>201567    </td><td>Love      </td><td>Kevin     </td><td>0         </td><td>F         </td><td>1610612739</td><td>36.70210  </td><td>25.21179  </td><td>0         </td><td>720       </td><td>24        </td><td>1         </td><td>2         </td></tr>\n",
       "</tbody>\n",
       "</table>\n"
      ],
      "text/latex": [
       "\\begin{tabular}{r|lllllllllllll}\n",
       " player\\_id & lastname & firstname & jersey & position & team\\_id & x\\_loc & y\\_loc & radius & game\\_clock & shot\\_clock & quarter & event.id\\\\\n",
       "\\hline\n",
       "\t 201567     & Love       & Kevin      & 0          & F          & 1610612739 & 36.68877   & 25.19545   & 0          & 720        & 24         & 1          & 1         \\\\\n",
       "\t 201567     & Love       & Kevin      & 0          & F          & 1610612739 & 36.68877   & 25.19545   & 0          & 720        & 24         & 1          & 2         \\\\\n",
       "\t 201567     & Love       & Kevin      & 0          & F          & 1610612739 & 36.69438   & 25.20285   & 0          & 720        & 24         & 1          & 2         \\\\\n",
       "\t 201567     & Love       & Kevin      & 0          & F          & 1610612739 & 36.69438   & 25.20285   & 0          & 720        & 24         & 1          & 1         \\\\\n",
       "\t 201567     & Love       & Kevin      & 0          & F          & 1610612739 & 36.70210   & 25.21179   & 0          & 720        & 24         & 1          & 1         \\\\\n",
       "\t 201567     & Love       & Kevin      & 0          & F          & 1610612739 & 36.70210   & 25.21179   & 0          & 720        & 24         & 1          & 2         \\\\\n",
       "\\end{tabular}\n"
      ],
      "text/markdown": [
       "\n",
       "player_id | lastname | firstname | jersey | position | team_id | x_loc | y_loc | radius | game_clock | shot_clock | quarter | event.id | \n",
       "|---|---|---|---|---|---|\n",
       "| 201567     | Love       | Kevin      | 0          | F          | 1610612739 | 36.68877   | 25.19545   | 0          | 720        | 24         | 1          | 1          | \n",
       "| 201567     | Love       | Kevin      | 0          | F          | 1610612739 | 36.68877   | 25.19545   | 0          | 720        | 24         | 1          | 2          | \n",
       "| 201567     | Love       | Kevin      | 0          | F          | 1610612739 | 36.69438   | 25.20285   | 0          | 720        | 24         | 1          | 2          | \n",
       "| 201567     | Love       | Kevin      | 0          | F          | 1610612739 | 36.69438   | 25.20285   | 0          | 720        | 24         | 1          | 1          | \n",
       "| 201567     | Love       | Kevin      | 0          | F          | 1610612739 | 36.70210   | 25.21179   | 0          | 720        | 24         | 1          | 1          | \n",
       "| 201567     | Love       | Kevin      | 0          | F          | 1610612739 | 36.70210   | 25.21179   | 0          | 720        | 24         | 1          | 2          | \n",
       "\n",
       "\n"
      ],
      "text/plain": [
       "  player_id lastname firstname jersey position team_id    x_loc    y_loc   \n",
       "1 201567    Love     Kevin     0      F        1610612739 36.68877 25.19545\n",
       "2 201567    Love     Kevin     0      F        1610612739 36.68877 25.19545\n",
       "3 201567    Love     Kevin     0      F        1610612739 36.69438 25.20285\n",
       "4 201567    Love     Kevin     0      F        1610612739 36.69438 25.20285\n",
       "5 201567    Love     Kevin     0      F        1610612739 36.70210 25.21179\n",
       "6 201567    Love     Kevin     0      F        1610612739 36.70210 25.21179\n",
       "  radius game_clock shot_clock quarter event.id\n",
       "1 0      720        24         1       1       \n",
       "2 0      720        24         1       2       \n",
       "3 0      720        24         1       2       \n",
       "4 0      720        24         1       1       \n",
       "5 0      720        24         1       1       \n",
       "6 0      720        24         1       2       "
      ]
     },
     "metadata": {},
     "output_type": "display_data"
    }
   ],
   "source": [
    "# after adjusting with reflection point \n",
    "head(all.movements)"
   ]
  },
  {
   "cell_type": "markdown",
   "metadata": {},
   "source": [
    "### The NBA play-by-play data was taken from the following website: http://stats.nba.com/stats/playbyplayv2?EndPeriod=10&EndRange=55800&GameID=0021500438&RangeType=2&StartPeriod=1&StartRange=0"
   ]
  },
  {
   "cell_type": "markdown",
   "metadata": {},
   "source": [
    "### There were issues with directly importing the play-by-play data into R from the nba.com website, so the contents of the site were saved in a JSON file, and then loaded into a dataframe."
   ]
  },
  {
   "cell_type": "code",
   "execution_count": 11,
   "metadata": {
    "collapsed": false
   },
   "outputs": [],
   "source": [
    "  the.data.file<-fromJSON(\"playbyplayxmas2015.json\")\n",
    "  test <-the.data.file$resultSets$rowSet\n",
    "  test2 <- test[[1]]\n",
    "  pbp <- data.frame(test2)\n",
    "  coltest <- the.data.file$resultSets$headers\n",
    "  colnames(pbp) <- coltest[[1]]"
   ]
  },
  {
   "cell_type": "markdown",
   "metadata": {},
   "source": [
    "### A quick examination shows the \"pbp\" data frame appears to be propertly formatted:"
   ]
  },
  {
   "cell_type": "code",
   "execution_count": 12,
   "metadata": {
    "collapsed": false
   },
   "outputs": [
    {
     "data": {
      "text/html": [
       "<table>\n",
       "<thead><tr><th scope=col>GAME_ID</th><th scope=col>EVENTNUM</th><th scope=col>EVENTMSGTYPE</th><th scope=col>EVENTMSGACTIONTYPE</th><th scope=col>PERIOD</th><th scope=col>WCTIMESTRING</th><th scope=col>PCTIMESTRING</th><th scope=col>HOMEDESCRIPTION</th><th scope=col>NEUTRALDESCRIPTION</th><th scope=col>VISITORDESCRIPTION</th><th scope=col>⋯</th><th scope=col>PLAYER2_TEAM_CITY</th><th scope=col>PLAYER2_TEAM_NICKNAME</th><th scope=col>PLAYER2_TEAM_ABBREVIATION</th><th scope=col>PERSON3TYPE</th><th scope=col>PLAYER3_ID</th><th scope=col>PLAYER3_NAME</th><th scope=col>PLAYER3_TEAM_ID</th><th scope=col>PLAYER3_TEAM_CITY</th><th scope=col>PLAYER3_TEAM_NICKNAME</th><th scope=col>PLAYER3_TEAM_ABBREVIATION</th></tr></thead>\n",
       "<tbody>\n",
       "\t<tr><td>0021500438                                </td><td>0                                         </td><td>12                                        </td><td>0                                         </td><td>1                                         </td><td>5:21 PM                                   </td><td>12:00                                     </td><td>NA                                        </td><td>NA                                        </td><td>NA                                        </td><td>⋯                                         </td><td>NA                                        </td><td>NA                                        </td><td>NA                                        </td><td>0                                         </td><td>0                                         </td><td>NA                                        </td><td>NA                                        </td><td>NA                                        </td><td>NA                                        </td><td>NA                                        </td></tr>\n",
       "\t<tr><td>0021500438                                </td><td>1                                         </td><td>10                                        </td><td>0                                         </td><td>1                                         </td><td>5:21 PM                                   </td><td>12:00                                     </td><td>Jump Ball Bogut vs. Mozgov: Tip to Love   </td><td>NA                                        </td><td>NA                                        </td><td>⋯                                         </td><td>Cleveland                                 </td><td>Cavaliers                                 </td><td>CLE                                       </td><td>5                                         </td><td>201567                                    </td><td>Kevin Love                                </td><td>1610612739                                </td><td>Cleveland                                 </td><td>Cavaliers                                 </td><td>CLE                                       </td></tr>\n",
       "\t<tr><td>0021500438                                </td><td>2                                         </td><td>5                                         </td><td>39                                        </td><td>1                                         </td><td>5:21 PM                                   </td><td>11:44                                     </td><td>NA                                        </td><td>NA                                        </td><td>Mozgov Step Out of Bounds Turnover (P1.T1)</td><td>⋯                                         </td><td>NA                                        </td><td>NA                                        </td><td>NA                                        </td><td>1                                         </td><td>0                                         </td><td>NA                                        </td><td>NA                                        </td><td>NA                                        </td><td>NA                                        </td><td>NA                                        </td></tr>\n",
       "\t<tr><td>0021500438                                </td><td>3                                         </td><td>5                                         </td><td>2                                         </td><td>1                                         </td><td>5:22 PM                                   </td><td>11:25                                     </td><td>Rush Lost Ball Turnover (P1.T1)           </td><td>NA                                        </td><td>James STEAL (1 STL)                       </td><td>⋯                                         </td><td>Cleveland                                 </td><td>Cavaliers                                 </td><td>CLE                                       </td><td>0                                         </td><td>0                                         </td><td>NA                                        </td><td>NA                                        </td><td>NA                                        </td><td>NA                                        </td><td>NA                                        </td></tr>\n",
       "\t<tr><td>0021500438                                </td><td>4                                         </td><td>2                                         </td><td>85                                        </td><td>1                                         </td><td>5:22 PM                                   </td><td>11:03                                     </td><td>NA                                        </td><td>NA                                        </td><td>MISS Love 4' Turnaround Bank Shot         </td><td>⋯                                         </td><td>NA                                        </td><td>NA                                        </td><td>NA                                        </td><td>0                                         </td><td>0                                         </td><td>NA                                        </td><td>NA                                        </td><td>NA                                        </td><td>NA                                        </td><td>NA                                        </td></tr>\n",
       "\t<tr><td>0021500438                                </td><td>5                                         </td><td>4                                         </td><td>0                                         </td><td>1                                         </td><td>5:22 PM                                   </td><td>11:03                                     </td><td>Thompson REBOUND (Off:0 Def:1)            </td><td>NA                                        </td><td>NA                                        </td><td>⋯                                         </td><td>NA                                        </td><td>NA                                        </td><td>NA                                        </td><td>0                                         </td><td>0                                         </td><td>NA                                        </td><td>NA                                        </td><td>NA                                        </td><td>NA                                        </td><td>NA                                        </td></tr>\n",
       "</tbody>\n",
       "</table>\n"
      ],
      "text/latex": [
       "\\begin{tabular}{r|lllllllllllllllllllllllllllllllll}\n",
       " GAME\\_ID & EVENTNUM & EVENTMSGTYPE & EVENTMSGACTIONTYPE & PERIOD & WCTIMESTRING & PCTIMESTRING & HOMEDESCRIPTION & NEUTRALDESCRIPTION & VISITORDESCRIPTION & ⋯ & PLAYER2\\_TEAM\\_CITY & PLAYER2\\_TEAM\\_NICKNAME & PLAYER2\\_TEAM\\_ABBREVIATION & PERSON3TYPE & PLAYER3\\_ID & PLAYER3\\_NAME & PLAYER3\\_TEAM\\_ID & PLAYER3\\_TEAM\\_CITY & PLAYER3\\_TEAM\\_NICKNAME & PLAYER3\\_TEAM\\_ABBREVIATION\\\\\n",
       "\\hline\n",
       "\t 0021500438                                 & 0                                          & 12                                         & 0                                          & 1                                          & 5:21 PM                                    & 12:00                                      & NA                                         & NA                                         & NA                                         & ⋯                                          & NA                                         & NA                                         & NA                                         & 0                                          & 0                                          & NA                                         & NA                                         & NA                                         & NA                                         & NA                                        \\\\\n",
       "\t 0021500438                                 & 1                                          & 10                                         & 0                                          & 1                                          & 5:21 PM                                    & 12:00                                      & Jump Ball Bogut vs. Mozgov: Tip to Love    & NA                                         & NA                                         & ⋯                                          & Cleveland                                  & Cavaliers                                  & CLE                                        & 5                                          & 201567                                     & Kevin Love                                 & 1610612739                                 & Cleveland                                  & Cavaliers                                  & CLE                                       \\\\\n",
       "\t 0021500438                                 & 2                                          & 5                                          & 39                                         & 1                                          & 5:21 PM                                    & 11:44                                      & NA                                         & NA                                         & Mozgov Step Out of Bounds Turnover (P1.T1) & ⋯                                          & NA                                         & NA                                         & NA                                         & 1                                          & 0                                          & NA                                         & NA                                         & NA                                         & NA                                         & NA                                        \\\\\n",
       "\t 0021500438                                 & 3                                          & 5                                          & 2                                          & 1                                          & 5:22 PM                                    & 11:25                                      & Rush Lost Ball Turnover (P1.T1)            & NA                                         & James STEAL (1 STL)                        & ⋯                                          & Cleveland                                  & Cavaliers                                  & CLE                                        & 0                                          & 0                                          & NA                                         & NA                                         & NA                                         & NA                                         & NA                                        \\\\\n",
       "\t 0021500438                                 & 4                                          & 2                                          & 85                                         & 1                                          & 5:22 PM                                    & 11:03                                      & NA                                         & NA                                         & MISS Love 4' Turnaround Bank Shot          & ⋯                                          & NA                                         & NA                                         & NA                                         & 0                                          & 0                                          & NA                                         & NA                                         & NA                                         & NA                                         & NA                                        \\\\\n",
       "\t 0021500438                                 & 5                                          & 4                                          & 0                                          & 1                                          & 5:22 PM                                    & 11:03                                      & Thompson REBOUND (Off:0 Def:1)             & NA                                         & NA                                         & ⋯                                          & NA                                         & NA                                         & NA                                         & 0                                          & 0                                          & NA                                         & NA                                         & NA                                         & NA                                         & NA                                        \\\\\n",
       "\\end{tabular}\n"
      ],
      "text/markdown": [
       "\n",
       "GAME_ID | EVENTNUM | EVENTMSGTYPE | EVENTMSGACTIONTYPE | PERIOD | WCTIMESTRING | PCTIMESTRING | HOMEDESCRIPTION | NEUTRALDESCRIPTION | VISITORDESCRIPTION | ⋯ | PLAYER2_TEAM_CITY | PLAYER2_TEAM_NICKNAME | PLAYER2_TEAM_ABBREVIATION | PERSON3TYPE | PLAYER3_ID | PLAYER3_NAME | PLAYER3_TEAM_ID | PLAYER3_TEAM_CITY | PLAYER3_TEAM_NICKNAME | PLAYER3_TEAM_ABBREVIATION | \n",
       "|---|---|---|---|---|---|\n",
       "| 0021500438                                 | 0                                          | 12                                         | 0                                          | 1                                          | 5:21 PM                                    | 12:00                                      | NA                                         | NA                                         | NA                                         | ⋯                                          | NA                                         | NA                                         | NA                                         | 0                                          | 0                                          | NA                                         | NA                                         | NA                                         | NA                                         | NA                                         | \n",
       "| 0021500438                                 | 1                                          | 10                                         | 0                                          | 1                                          | 5:21 PM                                    | 12:00                                      | Jump Ball Bogut vs. Mozgov: Tip to Love    | NA                                         | NA                                         | ⋯                                          | Cleveland                                  | Cavaliers                                  | CLE                                        | 5                                          | 201567                                     | Kevin Love                                 | 1610612739                                 | Cleveland                                  | Cavaliers                                  | CLE                                        | \n",
       "| 0021500438                                 | 2                                          | 5                                          | 39                                         | 1                                          | 5:21 PM                                    | 11:44                                      | NA                                         | NA                                         | Mozgov Step Out of Bounds Turnover (P1.T1) | ⋯                                          | NA                                         | NA                                         | NA                                         | 1                                          | 0                                          | NA                                         | NA                                         | NA                                         | NA                                         | NA                                         | \n",
       "| 0021500438                                 | 3                                          | 5                                          | 2                                          | 1                                          | 5:22 PM                                    | 11:25                                      | Rush Lost Ball Turnover (P1.T1)            | NA                                         | James STEAL (1 STL)                        | ⋯                                          | Cleveland                                  | Cavaliers                                  | CLE                                        | 0                                          | 0                                          | NA                                         | NA                                         | NA                                         | NA                                         | NA                                         | \n",
       "| 0021500438                                 | 4                                          | 2                                          | 85                                         | 1                                          | 5:22 PM                                    | 11:03                                      | NA                                         | NA                                         | MISS Love 4' Turnaround Bank Shot          | ⋯                                          | NA                                         | NA                                         | NA                                         | 0                                          | 0                                          | NA                                         | NA                                         | NA                                         | NA                                         | NA                                         | \n",
       "| 0021500438                                 | 5                                          | 4                                          | 0                                          | 1                                          | 5:22 PM                                    | 11:03                                      | Thompson REBOUND (Off:0 Def:1)             | NA                                         | NA                                         | ⋯                                          | NA                                         | NA                                         | NA                                         | 0                                          | 0                                          | NA                                         | NA                                         | NA                                         | NA                                         | NA                                         | \n",
       "\n",
       "\n"
      ],
      "text/plain": [
       "  GAME_ID    EVENTNUM EVENTMSGTYPE EVENTMSGACTIONTYPE PERIOD WCTIMESTRING\n",
       "1 0021500438 0        12           0                  1      5:21 PM     \n",
       "2 0021500438 1        10           0                  1      5:21 PM     \n",
       "3 0021500438 2        5            39                 1      5:21 PM     \n",
       "4 0021500438 3        5            2                  1      5:22 PM     \n",
       "5 0021500438 4        2            85                 1      5:22 PM     \n",
       "6 0021500438 5        4            0                  1      5:22 PM     \n",
       "  PCTIMESTRING HOMEDESCRIPTION                         NEUTRALDESCRIPTION\n",
       "1 12:00        NA                                      NA                \n",
       "2 12:00        Jump Ball Bogut vs. Mozgov: Tip to Love NA                \n",
       "3 11:44        NA                                      NA                \n",
       "4 11:25        Rush Lost Ball Turnover (P1.T1)         NA                \n",
       "5 11:03        NA                                      NA                \n",
       "6 11:03        Thompson REBOUND (Off:0 Def:1)          NA                \n",
       "  VISITORDESCRIPTION                         ⋯ PLAYER2_TEAM_CITY\n",
       "1 NA                                         ⋯ NA               \n",
       "2 NA                                         ⋯ Cleveland        \n",
       "3 Mozgov Step Out of Bounds Turnover (P1.T1) ⋯ NA               \n",
       "4 James STEAL (1 STL)                        ⋯ Cleveland        \n",
       "5 MISS Love 4' Turnaround Bank Shot          ⋯ NA               \n",
       "6 NA                                         ⋯ NA               \n",
       "  PLAYER2_TEAM_NICKNAME PLAYER2_TEAM_ABBREVIATION PERSON3TYPE PLAYER3_ID\n",
       "1 NA                    NA                        0           0         \n",
       "2 Cavaliers             CLE                       5           201567    \n",
       "3 NA                    NA                        1           0         \n",
       "4 Cavaliers             CLE                       0           0         \n",
       "5 NA                    NA                        0           0         \n",
       "6 NA                    NA                        0           0         \n",
       "  PLAYER3_NAME PLAYER3_TEAM_ID PLAYER3_TEAM_CITY PLAYER3_TEAM_NICKNAME\n",
       "1 NA           NA              NA                NA                   \n",
       "2 Kevin Love   1610612739      Cleveland         Cavaliers            \n",
       "3 NA           NA              NA                NA                   \n",
       "4 NA           NA              NA                NA                   \n",
       "5 NA           NA              NA                NA                   \n",
       "6 NA           NA              NA                NA                   \n",
       "  PLAYER3_TEAM_ABBREVIATION\n",
       "1 NA                       \n",
       "2 CLE                      \n",
       "3 NA                       \n",
       "4 NA                       \n",
       "5 NA                       \n",
       "6 NA                       "
      ]
     },
     "metadata": {},
     "output_type": "display_data"
    }
   ],
   "source": [
    "head(pbp)"
   ]
  },
  {
   "cell_type": "markdown",
   "metadata": {},
   "source": [
    "### The next step is to remove data not used in the animation:"
   ]
  },
  {
   "cell_type": "code",
   "execution_count": 13,
   "metadata": {
    "collapsed": false
   },
   "outputs": [
    {
     "data": {
      "text/html": [
       "<table>\n",
       "<thead><tr><th></th><th scope=col>event.id</th><th scope=col>EVENTMSGTYPE</th><th scope=col>EVENTMSGACTIONTYPE</th><th scope=col>SCORE</th></tr></thead>\n",
       "<tbody>\n",
       "\t<tr><th scope=row>2</th><td>1 </td><td>10</td><td>0 </td><td>NA</td></tr>\n",
       "\t<tr><th scope=row>3</th><td>2 </td><td>5 </td><td>39</td><td>NA</td></tr>\n",
       "\t<tr><th scope=row>4</th><td>3 </td><td>5 </td><td>2 </td><td>NA</td></tr>\n",
       "\t<tr><th scope=row>5</th><td>4 </td><td>2 </td><td>85</td><td>NA</td></tr>\n",
       "\t<tr><th scope=row>6</th><td>5 </td><td>4 </td><td>0 </td><td>NA</td></tr>\n",
       "\t<tr><th scope=row>7</th><td>6 </td><td>2 </td><td>1 </td><td>NA</td></tr>\n",
       "</tbody>\n",
       "</table>\n"
      ],
      "text/latex": [
       "\\begin{tabular}{r|llll}\n",
       "  & event.id & EVENTMSGTYPE & EVENTMSGACTIONTYPE & SCORE\\\\\n",
       "\\hline\n",
       "\t2 & 1  & 10 & 0  & NA\\\\\n",
       "\t3 & 2  & 5  & 39 & NA\\\\\n",
       "\t4 & 3  & 5  & 2  & NA\\\\\n",
       "\t5 & 4  & 2  & 85 & NA\\\\\n",
       "\t6 & 5  & 4  & 0  & NA\\\\\n",
       "\t7 & 6  & 2  & 1  & NA\\\\\n",
       "\\end{tabular}\n"
      ],
      "text/markdown": [
       "\n",
       "| <!--/--> | event.id | EVENTMSGTYPE | EVENTMSGACTIONTYPE | SCORE | \n",
       "|---|---|---|---|---|---|\n",
       "| 2 | 1  | 10 | 0  | NA | \n",
       "| 3 | 2  | 5  | 39 | NA | \n",
       "| 4 | 3  | 5  | 2  | NA | \n",
       "| 5 | 4  | 2  | 85 | NA | \n",
       "| 6 | 5  | 4  | 0  | NA | \n",
       "| 7 | 6  | 2  | 1  | NA | \n",
       "\n",
       "\n"
      ],
      "text/plain": [
       "  event.id EVENTMSGTYPE EVENTMSGACTIONTYPE SCORE\n",
       "2 1        10           0                  NA   \n",
       "3 2        5            39                 NA   \n",
       "4 3        5            2                  NA   \n",
       "5 4        2            85                 NA   \n",
       "6 5        4            0                  NA   \n",
       "7 6        2            1                  NA   "
      ]
     },
     "metadata": {},
     "output_type": "display_data"
    }
   ],
   "source": [
    "pbp <- pbp[-1,] #remove first row\n",
    "colnames(pbp)[2] <- c('event.id') # used to merge on all.movements dataframe\n",
    "pbp0 <- pbp %>% select (event.id,EVENTMSGTYPE,EVENTMSGACTIONTYPE,SCORE)\n",
    "pbp0$event.id <- as.numeric(levels(pbp0$event.id))[pbp0$event.id]\n",
    "head(pbp0)"
   ]
  },
  {
   "cell_type": "code",
   "execution_count": 14,
   "metadata": {
    "collapsed": false
   },
   "outputs": [
    {
     "data": {
      "text/html": [
       "<table>\n",
       "<thead><tr><th></th><th scope=col>event.id</th><th scope=col>EVENTMSGTYPE</th><th scope=col>EVENTMSGACTIONTYPE</th><th scope=col>SCORE</th></tr></thead>\n",
       "<tbody>\n",
       "\t<tr><th scope=row>486</th><td>557    </td><td>3      </td><td>11     </td><td>83 - 88</td></tr>\n",
       "\t<tr><th scope=row>487</th><td>559    </td><td>3      </td><td>12     </td><td>83 - 89</td></tr>\n",
       "\t<tr><th scope=row>488</th><td>561    </td><td>9      </td><td>2      </td><td>NA     </td></tr>\n",
       "\t<tr><th scope=row>489</th><td>562    </td><td>2      </td><td>1      </td><td>NA     </td></tr>\n",
       "\t<tr><th scope=row>490</th><td>563    </td><td>4      </td><td>0      </td><td>NA     </td></tr>\n",
       "\t<tr><th scope=row>491</th><td>564    </td><td>13     </td><td>0      </td><td>83 - 89</td></tr>\n",
       "</tbody>\n",
       "</table>\n"
      ],
      "text/latex": [
       "\\begin{tabular}{r|llll}\n",
       "  & event.id & EVENTMSGTYPE & EVENTMSGACTIONTYPE & SCORE\\\\\n",
       "\\hline\n",
       "\t486 & 557     & 3       & 11      & 83 - 88\\\\\n",
       "\t487 & 559     & 3       & 12      & 83 - 89\\\\\n",
       "\t488 & 561     & 9       & 2       & NA     \\\\\n",
       "\t489 & 562     & 2       & 1       & NA     \\\\\n",
       "\t490 & 563     & 4       & 0       & NA     \\\\\n",
       "\t491 & 564     & 13      & 0       & 83 - 89\\\\\n",
       "\\end{tabular}\n"
      ],
      "text/markdown": [
       "\n",
       "| <!--/--> | event.id | EVENTMSGTYPE | EVENTMSGACTIONTYPE | SCORE | \n",
       "|---|---|---|---|---|---|\n",
       "| 486 | 557     | 3       | 11      | 83 - 88 | \n",
       "| 487 | 559     | 3       | 12      | 83 - 89 | \n",
       "| 488 | 561     | 9       | 2       | NA      | \n",
       "| 489 | 562     | 2       | 1       | NA      | \n",
       "| 490 | 563     | 4       | 0       | NA      | \n",
       "| 491 | 564     | 13      | 0       | 83 - 89 | \n",
       "\n",
       "\n"
      ],
      "text/plain": [
       "    event.id EVENTMSGTYPE EVENTMSGACTIONTYPE SCORE  \n",
       "486 557      3            11                 83 - 88\n",
       "487 559      3            12                 83 - 89\n",
       "488 561      9            2                  NA     \n",
       "489 562      2            1                  NA     \n",
       "490 563      4            0                  NA     \n",
       "491 564      13           0                  83 - 89"
      ]
     },
     "metadata": {},
     "output_type": "display_data"
    }
   ],
   "source": [
    "tail(pbp0)"
   ]
  },
  {
   "cell_type": "markdown",
   "metadata": {},
   "source": [
    "### Examining the play-by-play log on the nba.com website, the event to be animated is 493.  A quick look at the score for this event verifies this is the correct play:"
   ]
  },
  {
   "cell_type": "code",
   "execution_count": 15,
   "metadata": {
    "collapsed": false
   },
   "outputs": [
    {
     "data": {
      "text/html": [
       "<table>\n",
       "<thead><tr><th></th><th scope=col>event.id</th><th scope=col>EVENTMSGTYPE</th><th scope=col>EVENTMSGACTIONTYPE</th><th scope=col>SCORE</th></tr></thead>\n",
       "<tbody>\n",
       "\t<tr><th scope=row>434</th><td>493    </td><td>1      </td><td>49     </td><td>73 - 81</td></tr>\n",
       "</tbody>\n",
       "</table>\n"
      ],
      "text/latex": [
       "\\begin{tabular}{r|llll}\n",
       "  & event.id & EVENTMSGTYPE & EVENTMSGACTIONTYPE & SCORE\\\\\n",
       "\\hline\n",
       "\t434 & 493     & 1       & 49      & 73 - 81\\\\\n",
       "\\end{tabular}\n"
      ],
      "text/markdown": [
       "\n",
       "| <!--/--> | event.id | EVENTMSGTYPE | EVENTMSGACTIONTYPE | SCORE | \n",
       "|---|\n",
       "| 434 | 493     | 1       | 49      | 73 - 81 | \n",
       "\n",
       "\n"
      ],
      "text/plain": [
       "    event.id EVENTMSGTYPE EVENTMSGACTIONTYPE SCORE  \n",
       "434 493      1            49                 73 - 81"
      ]
     },
     "metadata": {},
     "output_type": "display_data"
    }
   ],
   "source": [
    "pbp0[pbp0$event.id==493,]"
   ]
  },
  {
   "cell_type": "markdown",
   "metadata": {},
   "source": [
    "### The two data frames are merged together by event.id, and the dimensions of this dataframe is rather large."
   ]
  },
  {
   "cell_type": "code",
   "execution_count": 16,
   "metadata": {
    "collapsed": false
   },
   "outputs": [
    {
     "data": {
      "text/html": [
       "<ol class=list-inline>\n",
       "\t<li>2562242</li>\n",
       "\t<li>16</li>\n",
       "</ol>\n"
      ],
      "text/latex": [
       "\\begin{enumerate*}\n",
       "\\item 2562242\n",
       "\\item 16\n",
       "\\end{enumerate*}\n"
      ],
      "text/markdown": [
       "1. 2562242\n",
       "2. 16\n",
       "\n",
       "\n"
      ],
      "text/plain": [
       "[1] 2562242      16"
      ]
     },
     "metadata": {},
     "output_type": "display_data"
    }
   ],
   "source": [
    "all.movements <- merge(x = all.movements, y = pbp0, by = \"event.id\", all.x = TRUE)\n",
    "dim(all.movements)"
   ]
  },
  {
   "cell_type": "markdown",
   "metadata": {},
   "source": [
    "### The id493 variable is then created by selecting the appropriate rows from the larger dataframe:"
   ]
  },
  {
   "cell_type": "code",
   "execution_count": 17,
   "metadata": {
    "collapsed": false
   },
   "outputs": [
    {
     "data": {
      "text/html": [
       "<ol class=list-inline>\n",
       "\t<li>7150</li>\n",
       "\t<li>16</li>\n",
       "</ol>\n"
      ],
      "text/latex": [
       "\\begin{enumerate*}\n",
       "\\item 7150\n",
       "\\item 16\n",
       "\\end{enumerate*}\n"
      ],
      "text/markdown": [
       "1. 7150\n",
       "2. 16\n",
       "\n",
       "\n"
      ],
      "text/plain": [
       "[1] 7150   16"
      ]
     },
     "metadata": {},
     "output_type": "display_data"
    }
   ],
   "source": [
    "id493 <- all.movements[which(all.movements$event.id == 493),]\n",
    "dim(id493)"
   ]
  },
  {
   "cell_type": "code",
   "execution_count": 18,
   "metadata": {
    "collapsed": false
   },
   "outputs": [
    {
     "data": {
      "text/html": [
       "<table>\n",
       "<thead><tr><th></th><th scope=col>event.id</th><th scope=col>player_id</th><th scope=col>lastname</th><th scope=col>firstname</th><th scope=col>jersey</th><th scope=col>position</th><th scope=col>team_id</th><th scope=col>x_loc</th><th scope=col>y_loc</th><th scope=col>radius</th><th scope=col>game_clock</th><th scope=col>shot_clock</th><th scope=col>quarter</th><th scope=col>EVENTMSGTYPE</th><th scope=col>EVENTMSGACTIONTYPE</th><th scope=col>SCORE</th></tr></thead>\n",
       "<tbody>\n",
       "\t<tr><th scope=row>2316307</th><td>493        </td><td>203521     </td><td>Dellavedova</td><td>Matthew    </td><td>8          </td><td>G          </td><td>1610612739 </td><td>67.30526   </td><td>25.31841   </td><td>0          </td><td>228.51     </td><td>15.70      </td><td>4          </td><td>1          </td><td>49         </td><td>73 - 81    </td></tr>\n",
       "\t<tr><th scope=row>2316308</th><td>493        </td><td>202691     </td><td>Thompson   </td><td>Klay       </td><td>11         </td><td>G          </td><td>1610612744 </td><td>68.37791   </td><td>40.02746   </td><td>0          </td><td>225.96     </td><td>24.00      </td><td>4          </td><td>1          </td><td>49         </td><td>73 - 81    </td></tr>\n",
       "\t<tr><th scope=row>2316309</th><td>493        </td><td>201567     </td><td>Love       </td><td>Kevin      </td><td>0          </td><td>F          </td><td>1610612739 </td><td>88.76534   </td><td>22.06867   </td><td>0          </td><td>227.50     </td><td>24.00      </td><td>4          </td><td>1          </td><td>49         </td><td>73 - 81    </td></tr>\n",
       "\t<tr><th scope=row>2316310</th><td>493        </td><td>2738       </td><td>Iguodala   </td><td>Andre      </td><td>9          </td><td>G-F        </td><td>1610612744 </td><td>73.23404   </td><td>32.29334   </td><td>0          </td><td>228.26     </td><td>15.49      </td><td>4          </td><td>1          </td><td>49         </td><td>73 - 81    </td></tr>\n",
       "\t<tr><th scope=row>2316311</th><td>493        </td><td>2733       </td><td>Livingston </td><td>Shaun      </td><td>34         </td><td>G          </td><td>1610612744 </td><td>83.93413   </td><td>27.38557   </td><td>0          </td><td>228.30     </td><td>15.52      </td><td>4          </td><td>1          </td><td>49         </td><td>73 - 81    </td></tr>\n",
       "\t<tr><th scope=row>2316312</th><td>493        </td><td>201567     </td><td>Love       </td><td>Kevin      </td><td>0          </td><td>F          </td><td>1610612739 </td><td>93.73214   </td><td>20.42830   </td><td>0          </td><td>224.42     </td><td>24.00      </td><td>4          </td><td>1          </td><td>49         </td><td>73 - 81    </td></tr>\n",
       "</tbody>\n",
       "</table>\n"
      ],
      "text/latex": [
       "\\begin{tabular}{r|llllllllllllllll}\n",
       "  & event.id & player\\_id & lastname & firstname & jersey & position & team\\_id & x\\_loc & y\\_loc & radius & game\\_clock & shot\\_clock & quarter & EVENTMSGTYPE & EVENTMSGACTIONTYPE & SCORE\\\\\n",
       "\\hline\n",
       "\t2316307 & 493         & 203521      & Dellavedova & Matthew     & 8           & G           & 1610612739  & 67.30526    & 25.31841    & 0           & 228.51      & 15.70       & 4           & 1           & 49          & 73 - 81    \\\\\n",
       "\t2316308 & 493         & 202691      & Thompson    & Klay        & 11          & G           & 1610612744  & 68.37791    & 40.02746    & 0           & 225.96      & 24.00       & 4           & 1           & 49          & 73 - 81    \\\\\n",
       "\t2316309 & 493         & 201567      & Love        & Kevin       & 0           & F           & 1610612739  & 88.76534    & 22.06867    & 0           & 227.50      & 24.00       & 4           & 1           & 49          & 73 - 81    \\\\\n",
       "\t2316310 & 493         & 2738        & Iguodala    & Andre       & 9           & G-F         & 1610612744  & 73.23404    & 32.29334    & 0           & 228.26      & 15.49       & 4           & 1           & 49          & 73 - 81    \\\\\n",
       "\t2316311 & 493         & 2733        & Livingston  & Shaun       & 34          & G           & 1610612744  & 83.93413    & 27.38557    & 0           & 228.30      & 15.52       & 4           & 1           & 49          & 73 - 81    \\\\\n",
       "\t2316312 & 493         & 201567      & Love        & Kevin       & 0           & F           & 1610612739  & 93.73214    & 20.42830    & 0           & 224.42      & 24.00       & 4           & 1           & 49          & 73 - 81    \\\\\n",
       "\\end{tabular}\n"
      ],
      "text/markdown": [
       "\n",
       "| <!--/--> | event.id | player_id | lastname | firstname | jersey | position | team_id | x_loc | y_loc | radius | game_clock | shot_clock | quarter | EVENTMSGTYPE | EVENTMSGACTIONTYPE | SCORE | \n",
       "|---|---|---|---|---|---|\n",
       "| 2316307 | 493         | 203521      | Dellavedova | Matthew     | 8           | G           | 1610612739  | 67.30526    | 25.31841    | 0           | 228.51      | 15.70       | 4           | 1           | 49          | 73 - 81     | \n",
       "| 2316308 | 493         | 202691      | Thompson    | Klay        | 11          | G           | 1610612744  | 68.37791    | 40.02746    | 0           | 225.96      | 24.00       | 4           | 1           | 49          | 73 - 81     | \n",
       "| 2316309 | 493         | 201567      | Love        | Kevin       | 0           | F           | 1610612739  | 88.76534    | 22.06867    | 0           | 227.50      | 24.00       | 4           | 1           | 49          | 73 - 81     | \n",
       "| 2316310 | 493         | 2738        | Iguodala    | Andre       | 9           | G-F         | 1610612744  | 73.23404    | 32.29334    | 0           | 228.26      | 15.49       | 4           | 1           | 49          | 73 - 81     | \n",
       "| 2316311 | 493         | 2733        | Livingston  | Shaun       | 34          | G           | 1610612744  | 83.93413    | 27.38557    | 0           | 228.30      | 15.52       | 4           | 1           | 49          | 73 - 81     | \n",
       "| 2316312 | 493         | 201567      | Love        | Kevin       | 0           | F           | 1610612739  | 93.73214    | 20.42830    | 0           | 224.42      | 24.00       | 4           | 1           | 49          | 73 - 81     | \n",
       "\n",
       "\n"
      ],
      "text/plain": [
       "        event.id player_id lastname    firstname jersey position team_id   \n",
       "2316307 493      203521    Dellavedova Matthew   8      G        1610612739\n",
       "2316308 493      202691    Thompson    Klay      11     G        1610612744\n",
       "2316309 493      201567    Love        Kevin     0      F        1610612739\n",
       "2316310 493      2738      Iguodala    Andre     9      G-F      1610612744\n",
       "2316311 493      2733      Livingston  Shaun     34     G        1610612744\n",
       "2316312 493      201567    Love        Kevin     0      F        1610612739\n",
       "        x_loc    y_loc    radius game_clock shot_clock quarter EVENTMSGTYPE\n",
       "2316307 67.30526 25.31841 0      228.51     15.70      4       1           \n",
       "2316308 68.37791 40.02746 0      225.96     24.00      4       1           \n",
       "2316309 88.76534 22.06867 0      227.50     24.00      4       1           \n",
       "2316310 73.23404 32.29334 0      228.26     15.49      4       1           \n",
       "2316311 83.93413 27.38557 0      228.30     15.52      4       1           \n",
       "2316312 93.73214 20.42830 0      224.42     24.00      4       1           \n",
       "        EVENTMSGACTIONTYPE SCORE  \n",
       "2316307 49                 73 - 81\n",
       "2316308 49                 73 - 81\n",
       "2316309 49                 73 - 81\n",
       "2316310 49                 73 - 81\n",
       "2316311 49                 73 - 81\n",
       "2316312 49                 73 - 81"
      ]
     },
     "metadata": {},
     "output_type": "display_data"
    }
   ],
   "source": [
    "head(id493)"
   ]
  },
  {
   "cell_type": "markdown",
   "metadata": {},
   "source": [
    "\n",
    "### Examining the \"game_clock\" variable shows the time range for event 493:"
   ]
  },
  {
   "cell_type": "code",
   "execution_count": 19,
   "metadata": {
    "collapsed": false
   },
   "outputs": [
    {
     "data": {
      "text/html": [
       "228.71"
      ],
      "text/latex": [
       "228.71"
      ],
      "text/markdown": [
       "228.71"
      ],
      "text/plain": [
       "[1] 228.71"
      ]
     },
     "metadata": {},
     "output_type": "display_data"
    },
    {
     "data": {
      "text/html": [
       "202.47"
      ],
      "text/latex": [
       "202.47"
      ],
      "text/markdown": [
       "202.47"
      ],
      "text/plain": [
       "[1] 202.47"
      ]
     },
     "metadata": {},
     "output_type": "display_data"
    }
   ],
   "source": [
    "max(id493$game_clock)\n",
    "min(id493$game_clock)"
   ]
  },
  {
   "cell_type": "markdown",
   "metadata": {},
   "source": [
    "### The variable \"clock_freeze\" is created to show the initial state of the play before the screen is set which leads to Curry jumping out on LeBron.  This occurs at the time 212.13."
   ]
  },
  {
   "cell_type": "code",
   "execution_count": 20,
   "metadata": {
    "collapsed": true
   },
   "outputs": [],
   "source": [
    "clock_freeze <- 212.13"
   ]
  },
  {
   "cell_type": "markdown",
   "metadata": {},
   "source": [
    "### A data frame is created showing the coordinates of each player and the ball at this time:"
   ]
  },
  {
   "cell_type": "code",
   "execution_count": 21,
   "metadata": {
    "collapsed": false
   },
   "outputs": [
    {
     "data": {
      "text/html": [
       "<table>\n",
       "<thead><tr><th scope=col>ID</th><th scope=col>X</th><th scope=col>Y</th><th scope=col>jersey</th></tr></thead>\n",
       "<tbody>\n",
       "\t<tr><td>1610612739</td><td> 7.66411  </td><td> 1.93193  </td><td>4         </td></tr>\n",
       "\t<tr><td>1610612739</td><td> 8.34234  </td><td>47.40137  </td><td>2         </td></tr>\n",
       "\t<tr><td>1610612744</td><td> 9.54603  </td><td>12.62083  </td><td>34        </td></tr>\n",
       "\t<tr><td>1610612739</td><td>11.50524  </td><td>37.21895  </td><td>0         </td></tr>\n",
       "\t<tr><td>1610612744</td><td>13.39608  </td><td>32.93889  </td><td>9         </td></tr>\n",
       "\t<tr><td>1610612744</td><td>13.49261  </td><td>40.16264  </td><td>11        </td></tr>\n",
       "\t<tr><td>1610612744</td><td>24.17604  </td><td>12.42015  </td><td>30        </td></tr>\n",
       "\t<tr><td>1610612739</td><td>27.06493  </td><td> 6.44722  </td><td>8         </td></tr>\n",
       "\t<tr><td>1610612744</td><td>28.03426  </td><td>23.90462  </td><td>23        </td></tr>\n",
       "\t<tr><td>1610612739</td><td>37.72973  </td><td>23.37479  </td><td>23        </td></tr>\n",
       "</tbody>\n",
       "</table>\n"
      ],
      "text/latex": [
       "\\begin{tabular}{r|llll}\n",
       " ID & X & Y & jersey\\\\\n",
       "\\hline\n",
       "\t 1610612739 &  7.66411   &  1.93193   & 4         \\\\\n",
       "\t 1610612739 &  8.34234   & 47.40137   & 2         \\\\\n",
       "\t 1610612744 &  9.54603   & 12.62083   & 34        \\\\\n",
       "\t 1610612739 & 11.50524   & 37.21895   & 0         \\\\\n",
       "\t 1610612744 & 13.39608   & 32.93889   & 9         \\\\\n",
       "\t 1610612744 & 13.49261   & 40.16264   & 11        \\\\\n",
       "\t 1610612744 & 24.17604   & 12.42015   & 30        \\\\\n",
       "\t 1610612739 & 27.06493   &  6.44722   & 8         \\\\\n",
       "\t 1610612744 & 28.03426   & 23.90462   & 23        \\\\\n",
       "\t 1610612739 & 37.72973   & 23.37479   & 23        \\\\\n",
       "\\end{tabular}\n"
      ],
      "text/markdown": [
       "\n",
       "ID | X | Y | jersey | \n",
       "|---|---|---|---|---|---|---|---|---|---|\n",
       "| 1610612739 |  7.66411   |  1.93193   | 4          | \n",
       "| 1610612739 |  8.34234   | 47.40137   | 2          | \n",
       "| 1610612744 |  9.54603   | 12.62083   | 34         | \n",
       "| 1610612739 | 11.50524   | 37.21895   | 0          | \n",
       "| 1610612744 | 13.39608   | 32.93889   | 9          | \n",
       "| 1610612744 | 13.49261   | 40.16264   | 11         | \n",
       "| 1610612744 | 24.17604   | 12.42015   | 30         | \n",
       "| 1610612739 | 27.06493   |  6.44722   | 8          | \n",
       "| 1610612744 | 28.03426   | 23.90462   | 23         | \n",
       "| 1610612739 | 37.72973   | 23.37479   | 23         | \n",
       "\n",
       "\n"
      ],
      "text/plain": [
       "   ID         X        Y        jersey\n",
       "1  1610612739  7.66411  1.93193 4     \n",
       "2  1610612739  8.34234 47.40137 2     \n",
       "3  1610612744  9.54603 12.62083 34    \n",
       "4  1610612739 11.50524 37.21895 0     \n",
       "5  1610612744 13.39608 32.93889 9     \n",
       "6  1610612744 13.49261 40.16264 11    \n",
       "7  1610612744 24.17604 12.42015 30    \n",
       "8  1610612739 27.06493  6.44722 8     \n",
       "9  1610612744 28.03426 23.90462 23    \n",
       "10 1610612739 37.72973 23.37479 23    "
      ]
     },
     "metadata": {},
     "output_type": "display_data"
    }
   ],
   "source": [
    "playerdf <- player_position1(df=id493, eventid=493,gameclock=clock_freeze) \n",
    "playerdf"
   ]
  },
  {
   "cell_type": "markdown",
   "metadata": {},
   "source": [
    "### Similarly, a data frame is created for the coordinates of the ball:"
   ]
  },
  {
   "cell_type": "code",
   "execution_count": 22,
   "metadata": {
    "collapsed": false
   },
   "outputs": [
    {
     "data": {
      "text/html": [
       "<table>\n",
       "<thead><tr><th scope=col>ID</th><th scope=col>X</th><th scope=col>Y</th><th scope=col>jersey</th></tr></thead>\n",
       "<tbody>\n",
       "\t<tr><td>NA      </td><td>37.34173</td><td>21.27249</td><td>NA      </td></tr>\n",
       "</tbody>\n",
       "</table>\n"
      ],
      "text/latex": [
       "\\begin{tabular}{r|llll}\n",
       " ID & X & Y & jersey\\\\\n",
       "\\hline\n",
       "\t NA       & 37.34173 & 21.27249 & NA      \\\\\n",
       "\\end{tabular}\n"
      ],
      "text/markdown": [
       "\n",
       "ID | X | Y | jersey | \n",
       "|---|\n",
       "| NA       | 37.34173 | 21.27249 | NA       | \n",
       "\n",
       "\n"
      ],
      "text/plain": [
       "  ID X        Y        jersey\n",
       "1 NA 37.34173 21.27249 NA    "
      ]
     },
     "metadata": {},
     "output_type": "display_data"
    }
   ],
   "source": [
    "ballposdf <- ball_position1(df=id493, eventid=493, gameclock=clock_freeze)\n",
    "ballposdf"
   ]
  },
  {
   "cell_type": "markdown",
   "metadata": {},
   "source": [
    "### The sourced function \"fullcourt\" creates the visualization of this moment by plotting the player's locations, their jersey numbers and the ball location on a basketball court:"
   ]
  },
  {
   "cell_type": "code",
   "execution_count": 23,
   "metadata": {
    "collapsed": false
   },
   "outputs": [
    {
     "data": {},
     "metadata": {},
     "output_type": "display_data"
    },
    {
     "data": {
      "image/png": "[encoded data removed]",
      "text/plain": [
       "plot without title"
      ]
     },
     "metadata": {},
     "output_type": "display_data"
    }
   ],
   "source": [
    "fullcourt() + \n",
    "  geom_point(data=playerdf,aes(x=X,y=Y,group=ID,color=factor(ID)),size=6) +       #players\n",
    "  geom_text(data=playerdf,aes(x=X,y=Y,group=ID,label=jersey),color='black') +     #jersey number\n",
    "  geom_point(data=ballposdf,aes(x=X,y=Y),color='darkorange',size=3) +              #ball\n",
    "  scale_color_manual(values=c(\"red\",\"lightblue\")) +\n",
    "  scale_fill_manual(values=c(\"red\",\"lightblue\")) +\n",
    "  theme(legend.position=\"none\")\n"
   ]
  },
  {
   "cell_type": "markdown",
   "metadata": {},
   "source": [
    "## The Cleveland Cavaliers (red) players on the above image are: LeBron James (#23), Kevin Love (#0), Matthew Dellavadova (#8), Iman Shumpert (#4), and Kyrie Irving (#2).  The Golden State Warriors (blue) players are Draymond Green (#23), Stephen Curry (#30), Andre Iguodala (#9), Shaun Livingston (#34) and Klay Thompson (#11). "
   ]
  },
  {
   "cell_type": "markdown",
   "metadata": {
    "collapsed": true
   },
   "source": [
    "### In order for the animation to work properly, the \"clocktimes\" variable is created.  This variable extracts the unique \"game_clock\" values and stores them in descending order:"
   ]
  },
  {
   "cell_type": "code",
   "execution_count": 24,
   "metadata": {
    "collapsed": true
   },
   "outputs": [],
   "source": [
    "clocktimes = rev(sort(unique(id493$game_clock)))"
   ]
  },
  {
   "cell_type": "markdown",
   "metadata": {},
   "source": [
    "### The dataframe \"fulldf\" is created, then populated by looping through the \"clocktimes\" and storing the position of the players and the position of the ball at each unique point in time. "
   ]
  },
  {
   "cell_type": "code",
   "execution_count": 27,
   "metadata": {
    "collapsed": false
   },
   "outputs": [
    {
     "data": {
      "text/html": [
       "650"
      ],
      "text/latex": [
       "650"
      ],
      "text/markdown": [
       "650"
      ],
      "text/plain": [
       "[1] 650"
      ]
     },
     "metadata": {},
     "output_type": "display_data"
    }
   ],
   "source": [
    "fulldf=list()\n",
    "\n",
    " for(i in seq_along(clocktimes)){\n",
    "  \n",
    "  dplayer <- player_position1(df=id493, 493,clocktimes[i]) #Gets positions of players\n",
    "  ballpos <- ball_position1(df=id493, 493,clocktimes[i])  #Gets position of ball\n",
    "  dplayer$valx = 'player'\n",
    "  ballpos$valx  = 'ball'\n",
    "  fulldf[[i]] = rbind(dplayer,ballpos)\n",
    "}\n",
    "\n",
    " length(fulldf)  "
   ]
  },
  {
   "cell_type": "markdown",
   "metadata": {},
   "source": [
    "### The time element is then added to the dataframe: "
   ]
  },
  {
   "cell_type": "code",
   "execution_count": 28,
   "metadata": {
    "collapsed": true
   },
   "outputs": [],
   "source": [
    " fulldf = Map(cbind,fulldf,timebin=1:length(fulldf)) "
   ]
  },
  {
   "cell_type": "markdown",
   "metadata": {},
   "source": [
    "### Another data frame is created that eliminates the time before and after Cleveland is on offense:\n"
   ]
  },
  {
   "cell_type": "code",
   "execution_count": 29,
   "metadata": {
    "collapsed": true
   },
   "outputs": [],
   "source": [
    "playdf = data.table::rbindlist(fulldf)\n",
    "playdf2 = playdf %>% filter(timebin>94) %>% filter(timebin<570)"
   ]
  },
  {
   "cell_type": "markdown",
   "metadata": {},
   "source": [
    "### The \"fullcourt\" function is called again, although now it uses the specified timebins to create seperate images for each moment captured in the SportVu data:"
   ]
  },
  {
   "cell_type": "code",
   "execution_count": 31,
   "metadata": {
    "collapsed": false
   },
   "outputs": [
    {
     "name": "stderr",
     "output_type": "stream",
     "text": [
      "Warning message:\n",
      "“Ignoring unknown aesthetics: frame”Warning message:\n",
      "“Ignoring unknown aesthetics: frame”Warning message:\n",
      "“Ignoring unknown aesthetics: frame”"
     ]
    }
   ],
   "source": [
    "### original code\n",
    "p = fullcourt() + \n",
    "  geom_point(data=playdf2 %>% filter(valx==\"player\"),aes(x=X,y=Y,group=ID,color=factor(ID),frame=timebin),size=6) +\n",
    "  geom_text(data=playdf2 %>% filter(valx==\"player\"),aes(x=X,y=Y,group=ID,frame=timebin,label=jersey),color='black') +\n",
    "  geom_point(data=playdf2 %>% filter(valx==\"ball\"),aes(x=X,y=Y,frame=timebin),color='darkorange',size=3) +\n",
    "  scale_color_manual(values=c(\"red\",\"lightblue\")) +\n",
    "  scale_fill_manual(values=c(\"red\",\"lightblue\")) +\n",
    "  theme(legend.position=\"none\")"
   ]
  },
  {
   "cell_type": "markdown",
   "metadata": {},
   "source": [
    "### Finally, the dynamic visualization is created using \"gganimate\" and saves it as a gif file.  The file \"xmas_play_lebron_curry.gif\" is located at https://github.com/zakesk/kings/tree/master/Project2 "
   ]
  },
  {
   "cell_type": "code",
   "execution_count": 32,
   "metadata": {
    "collapsed": false
   },
   "outputs": [
    {
     "name": "stderr",
     "output_type": "stream",
     "text": [
      "Executing: \n",
      "convert -loop 0 -delay 10 Rplot1.png Rplot2.png Rplot3.png Rplot4.png\n",
      "    Rplot5.png Rplot6.png Rplot7.png Rplot8.png Rplot9.png Rplot10.png\n",
      "    Rplot11.png Rplot12.png Rplot13.png Rplot14.png Rplot15.png\n",
      "    Rplot16.png Rplot17.png Rplot18.png Rplot19.png Rplot20.png\n",
      "    Rplot21.png Rplot22.png Rplot23.png Rplot24.png Rplot25.png\n",
      "    Rplot26.png Rplot27.png Rplot28.png Rplot29.png Rplot30.png\n",
      "    Rplot31.png Rplot32.png Rplot33.png Rplot34.png Rplot35.png\n",
      "    Rplot36.png Rplot37.png Rplot38.png Rplot39.png Rplot40.png\n",
      "    Rplot41.png Rplot42.png Rplot43.png Rplot44.png Rplot45.png\n",
      "    Rplot46.png Rplot47.png Rplot48.png Rplot49.png Rplot50.png\n",
      "    Rplot51.png Rplot52.png Rplot53.png Rplot54.png Rplot55.png\n",
      "    Rplot56.png Rplot57.png Rplot58.png Rplot59.png Rplot60.png\n",
      "    Rplot61.png Rplot62.png Rplot63.png Rplot64.png Rplot65.png\n",
      "    Rplot66.png Rplot67.png Rplot68.png Rplot69.png Rplot70.png\n",
      "    Rplot71.png Rplot72.png Rplot73.png Rplot74.png Rplot75.png\n",
      "    Rplot76.png Rplot77.png Rplot78.png Rplot79.png Rplot80.png\n",
      "    Rplot81.png Rplot82.png Rplot83.png Rplot84.png Rplot85.png\n",
      "    Rplot86.png Rplot87.png Rplot88.png Rplot89.png Rplot90.png\n",
      "    Rplot91.png Rplot92.png Rplot93.png Rplot94.png Rplot95.png\n",
      "    Rplot96.png Rplot97.png Rplot98.png Rplot99.png Rplot100.png\n",
      "    Rplot101.png Rplot102.png Rplot103.png Rplot104.png Rplot105.png\n",
      "    Rplot106.png Rplot107.png Rplot108.png Rplot109.png Rplot110.png\n",
      "    Rplot111.png Rplot112.png Rplot113.png Rplot114.png Rplot115.png\n",
      "    Rplot116.png Rplot117.png Rplot118.png Rplot119.png Rplot120.png\n",
      "    Rplot121.png Rplot122.png Rplot123.png Rplot124.png Rplot125.png\n",
      "    Rplot126.png Rplot127.png Rplot128.png Rplot129.png Rplot130.png\n",
      "    Rplot131.png Rplot132.png Rplot133.png Rplot134.png Rplot135.png\n",
      "    Rplot136.png Rplot137.png Rplot138.png Rplot139.png Rplot140.png\n",
      "    Rplot141.png Rplot142.png Rplot143.png Rplot144.png Rplot145.png\n",
      "    Rplot146.png Rplot147.png Rplot148.png Rplot149.png Rplot150.png\n",
      "    Rplot151.png Rplot152.png Rplot153.png Rplot154.png Rplot155.png\n",
      "    Rplot156.png Rplot157.png Rplot158.png Rplot159.png Rplot160.png\n",
      "    Rplot161.png Rplot162.png Rplot163.png Rplot164.png Rplot165.png\n",
      "    Rplot166.png Rplot167.png Rplot168.png Rplot169.png Rplot170.png\n",
      "    Rplot171.png Rplot172.png Rplot173.png Rplot174.png Rplot175.png\n",
      "    Rplot176.png Rplot177.png Rplot178.png Rplot179.png Rplot180.png\n",
      "    Rplot181.png Rplot182.png Rplot183.png Rplot184.png Rplot185.png\n",
      "    Rplot186.png Rplot187.png Rplot188.png Rplot189.png Rplot190.png\n",
      "    Rplot191.png Rplot192.png Rplot193.png Rplot194.png Rplot195.png\n",
      "    Rplot196.png Rplot197.png Rplot198.png Rplot199.png Rplot200.png\n",
      "    Rplot201.png Rplot202.png Rplot203.png Rplot204.png Rplot205.png\n",
      "    Rplot206.png Rplot207.png Rplot208.png Rplot209.png Rplot210.png\n",
      "    Rplot211.png Rplot212.png Rplot213.png Rplot214.png Rplot215.png\n",
      "    Rplot216.png Rplot217.png Rplot218.png Rplot219.png Rplot220.png\n",
      "    Rplot221.png Rplot222.png Rplot223.png Rplot224.png Rplot225.png\n",
      "    Rplot226.png Rplot227.png Rplot228.png Rplot229.png Rplot230.png\n",
      "    Rplot231.png Rplot232.png Rplot233.png Rplot234.png Rplot235.png\n",
      "    Rplot236.png Rplot237.png Rplot238.png Rplot239.png Rplot240.png\n",
      "    Rplot241.png Rplot242.png Rplot243.png Rplot244.png Rplot245.png\n",
      "    Rplot246.png Rplot247.png Rplot248.png Rplot249.png Rplot250.png\n",
      "    Rplot251.png Rplot252.png Rplot253.png Rplot254.png Rplot255.png\n",
      "    Rplot256.png Rplot257.png Rplot258.png Rplot259.png Rplot260.png\n",
      "    Rplot261.png Rplot262.png Rplot263.png Rplot264.png Rplot265.png\n",
      "    Rplot266.png Rplot267.png Rplot268.png Rplot269.png Rplot270.png\n",
      "    Rplot271.png Rplot272.png Rplot273.png Rplot274.png Rplot275.png\n",
      "    Rplot276.png Rplot277.png Rplot278.png Rplot279.png Rplot280.png\n",
      "    Rplot281.png Rplot282.png Rplot283.png Rplot284.png Rplot285.png\n",
      "    Rplot286.png Rplot287.png Rplot288.png Rplot289.png Rplot290.png\n",
      "    Rplot291.png Rplot292.png Rplot293.png Rplot294.png Rplot295.png\n",
      "    Rplot296.png Rplot297.png Rplot298.png Rplot299.png Rplot300.png\n",
      "    Rplot301.png Rplot302.png Rplot303.png Rplot304.png Rplot305.png\n",
      "    Rplot306.png Rplot307.png Rplot308.png Rplot309.png Rplot310.png\n",
      "    Rplot311.png Rplot312.png Rplot313.png Rplot314.png Rplot315.png\n",
      "    Rplot316.png Rplot317.png Rplot318.png Rplot319.png Rplot320.png\n",
      "    Rplot321.png Rplot322.png Rplot323.png Rplot324.png Rplot325.png\n",
      "    Rplot326.png Rplot327.png Rplot328.png Rplot329.png Rplot330.png\n",
      "    Rplot331.png Rplot332.png Rplot333.png Rplot334.png Rplot335.png\n",
      "    Rplot336.png Rplot337.png Rplot338.png Rplot339.png Rplot340.png\n",
      "    Rplot341.png Rplot342.png Rplot343.png Rplot344.png Rplot345.png\n",
      "    Rplot346.png Rplot347.png Rplot348.png Rplot349.png Rplot350.png\n",
      "    Rplot351.png Rplot352.png Rplot353.png Rplot354.png Rplot355.png\n",
      "    Rplot356.png Rplot357.png Rplot358.png Rplot359.png Rplot360.png\n",
      "    Rplot361.png Rplot362.png Rplot363.png Rplot364.png Rplot365.png\n",
      "    Rplot366.png Rplot367.png Rplot368.png Rplot369.png Rplot370.png\n",
      "    Rplot371.png Rplot372.png Rplot373.png Rplot374.png Rplot375.png\n",
      "    Rplot376.png Rplot377.png Rplot378.png Rplot379.png Rplot380.png\n",
      "    Rplot381.png Rplot382.png Rplot383.png Rplot384.png Rplot385.png\n",
      "    Rplot386.png Rplot387.png Rplot388.png Rplot389.png Rplot390.png\n",
      "    Rplot391.png Rplot392.png Rplot393.png Rplot394.png Rplot395.png\n",
      "    Rplot396.png Rplot397.png Rplot398.png Rplot399.png Rplot400.png\n",
      "    Rplot401.png Rplot402.png Rplot403.png Rplot404.png Rplot405.png\n",
      "    Rplot406.png Rplot407.png Rplot408.png Rplot409.png Rplot410.png\n",
      "    Rplot411.png Rplot412.png Rplot413.png Rplot414.png Rplot415.png\n",
      "    Rplot416.png Rplot417.png Rplot418.png Rplot419.png Rplot420.png\n",
      "    Rplot421.png Rplot422.png Rplot423.png Rplot424.png Rplot425.png\n",
      "    Rplot426.png Rplot427.png Rplot428.png Rplot429.png Rplot430.png\n",
      "    Rplot431.png Rplot432.png Rplot433.png Rplot434.png Rplot435.png\n",
      "    Rplot436.png Rplot437.png Rplot438.png Rplot439.png Rplot440.png\n",
      "    Rplot441.png Rplot442.png Rplot443.png Rplot444.png Rplot445.png\n",
      "    Rplot446.png Rplot447.png Rplot448.png Rplot449.png Rplot450.png\n",
      "    Rplot451.png Rplot452.png Rplot453.png Rplot454.png Rplot455.png\n",
      "    Rplot456.png Rplot457.png Rplot458.png Rplot459.png Rplot460.png\n",
      "    Rplot461.png Rplot462.png Rplot463.png Rplot464.png Rplot465.png\n",
      "    Rplot466.png Rplot467.png Rplot468.png Rplot469.png Rplot470.png\n",
      "    Rplot471.png Rplot472.png Rplot473.png Rplot474.png Rplot475.png\n",
      "    'xmas_play_lebron_curry.gif'\n",
      "Output at: xmas_play_lebron_curry.gif\n"
     ]
    },
    {
     "data": {},
     "metadata": {},
     "output_type": "display_data"
    }
   ],
   "source": [
    "gganimate(p, \"xmas_play_lebron_curry.gif\", title_frame =F, ani.width = 600, ani.height = 450, interval=0.1)  "
   ]
  }
 ],
 "metadata": {
  "kernelspec": {
   "display_name": "R",
   "language": "R",
   "name": "ir"
  },
  "language_info": {
   "codemirror_mode": "r",
   "file_extension": ".r",
   "mimetype": "text/x-r-source",
   "name": "R",
   "pygments_lexer": "r",
   "version": "3.3.3"
  }
 },
 "nbformat": 4,
 "nbformat_minor": 2
}
